{
  "nbformat": 4,
  "nbformat_minor": 0,
  "metadata": {
    "colab": {
      "provenance": []
    },
    "kernelspec": {
      "name": "python3",
      "display_name": "Python 3"
    },
    "language_info": {
      "name": "python"
    }
  },
  "cells": [
    {
      "cell_type": "markdown",
      "source": [
        "Consider a data set with the measurements 10, 15, 16, 17, 18, 21, 13. Com-\n",
        "pute the sample mean and unbiased sample variance of this data set (you\n",
        "may use a calculator or computer)."
      ],
      "metadata": {
        "id": "kWwFKrLaLiRE"
      }
    },
    {
      "cell_type": "code",
      "execution_count": null,
      "metadata": {
        "colab": {
          "base_uri": "https://localhost:8080/"
        },
        "id": "IZc11cygLY9y",
        "outputId": "f626284e-0572-446f-c441-951cdc4062f6"
      },
      "outputs": [
        {
          "output_type": "execute_result",
          "data": {
            "text/plain": [
              "(15.714285714285714, 12.571428571428575)"
            ]
          },
          "metadata": {},
          "execution_count": 1
        }
      ],
      "source": [
        "import numpy as np\n",
        "\n",
        "# Given data set\n",
        "data = np.array([10, 15, 16, 17, 18, 21, 13])\n",
        "\n",
        "# Compute the sample mean\n",
        "sample_mean = np.mean(data)\n",
        "\n",
        "# Compute the unbiased sample variance\n",
        "sample_variance = np.var(data, ddof=1)  # ddof=1 for unbiased variance\n",
        "\n",
        "sample_mean, sample_variance\n"
      ]
    }
  ]
}