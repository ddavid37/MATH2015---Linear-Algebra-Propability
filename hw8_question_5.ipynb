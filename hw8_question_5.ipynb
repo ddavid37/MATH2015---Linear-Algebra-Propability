{
  "nbformat": 4,
  "nbformat_minor": 0,
  "metadata": {
    "colab": {
      "provenance": []
    },
    "kernelspec": {
      "name": "python3",
      "display_name": "Python 3"
    },
    "language_info": {
      "name": "python"
    }
  },
  "cells": [
    {
      "cell_type": "markdown",
      "source": [],
      "metadata": {
        "id": "LqNKfwbJBxfm"
      }
    },
    {
      "cell_type": "markdown",
      "source": [
        "# **Question number 5:**"
      ],
      "metadata": {
        "id": "tW48Cb-_B0Gs"
      }
    },
    {
      "cell_type": "markdown",
      "source": [
        "To solve this, I’ll compute two probabilities for observing exactly 4 successes:\n",
        "\n",
        "Using the Binomial distribution, where n=200 trials and p=0.01 is the probability of success in each trial.\n",
        "\n",
        "Using the Poisson distribution as an approximation, with\n",
        "𝜆= 𝑛𝑝 =200 * 0.01 = 2.\n",
        "\n",
        "For a binomial random variable\n",
        "X∼ Binomial(n,p) the probability mass function (PMF) for observing k successes is:\n",
        "\n",
        "$$P(X = k) = \\binom{n}{k} p^k (1 - p)^{n - k}$$\n",
        "\n",
        "\n",
        "For a Poisson random variable 𝑌 ∼ Poisson(𝜆), the PMF for observing k events is:\n",
        "\n",
        "$$P(Y = k) = \\frac{\\lambda^k e^{-\\lambda}}{k!}$$\n",
        "\n",
        "Let’s calculate both probabilities for\n",
        "\n",
        "k=4 successes and compare the results."
      ],
      "metadata": {
        "id": "uCRZY1mr9EYM"
      }
    },
    {
      "cell_type": "markdown",
      "source": [],
      "metadata": {
        "id": "kgf8pSjuBwu7"
      }
    },
    {
      "cell_type": "code",
      "execution_count": null,
      "metadata": {
        "id": "FecaiMwDmj60",
        "colab": {
          "base_uri": "https://localhost:8080/"
        },
        "outputId": "4f7356f1-fa05-4305-a1e3-9caa822e3873"
      },
      "outputs": [
        {
          "output_type": "stream",
          "name": "stdout",
          "text": [
            "Binomial Probability: 0.0902197019244701\n"
          ]
        }
      ],
      "source": [
        "from scipy.stats import binom\n",
        "n = 200\n",
        "p = 0.01\n",
        "k = 4\n",
        "p_binomial = binom.pmf(k, n, p)\n",
        "print(\"Binomial Probability:\", p_binomial)\n"
      ]
    },
    {
      "cell_type": "code",
      "source": [
        "from scipy.stats import poisson\n",
        "lambda_value = n * p\n",
        "p_poisson = poisson.pmf(k, lambda_value)\n",
        "print(\"Poisson Probability:\", p_poisson)\n"
      ],
      "metadata": {
        "colab": {
          "base_uri": "https://localhost:8080/"
        },
        "id": "4Y7AskDu871K",
        "outputId": "594dac39-31df-4477-b54f-2f19b6b2d820"
      },
      "execution_count": null,
      "outputs": [
        {
          "output_type": "stream",
          "name": "stdout",
          "text": [
            "Poisson Probability: 0.09022352215774178\n"
          ]
        }
      ]
    },
    {
      "cell_type": "markdown",
      "source": [
        "These calculations will show you the two probabilities, and you’ll likely find that they are quite close, illustrating the approximation of the Binomial by the Poisson distribution under these conditions"
      ],
      "metadata": {
        "id": "N0iU8NBE9Dxy"
      }
    }
  ]
}